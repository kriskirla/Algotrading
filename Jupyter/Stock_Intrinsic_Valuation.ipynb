{
  "nbformat": 4,
  "nbformat_minor": 0,
  "metadata": {
    "colab": {
      "name": "Stock_Intrinsic_Valuation.ipynb",
      "provenance": [],
      "collapsed_sections": [],
      "authorship_tag": "ABX9TyOFEfz4raOPiPTZCzOZ/G2V"
    },
    "kernelspec": {
      "name": "python3",
      "display_name": "Python 3"
    }
  },
  "cells": [
    {
      "cell_type": "code",
      "metadata": {
        "id": "CH1rcsjo1lzK"
      },
      "source": [
        "# Calculating intrinsic value of stock to determine the fair value of stock\n",
        "# Credit to: https://medium.datadriveninvestor.com/use-python-to-value-a-stock-automatically-3b520422ab6"
      ],
      "execution_count": null,
      "outputs": []
    },
    {
      "cell_type": "code",
      "metadata": {
        "id": "yCR5gQtX3Jov"
      },
      "source": [
        "!pip install yfinance"
      ],
      "execution_count": null,
      "outputs": []
    },
    {
      "cell_type": "code",
      "metadata": {
        "id": "AzCzyA0F1rLm"
      },
      "source": [
        "# Importing libraries\n",
        "import pandas as pd\n",
        "import numpy as np\n",
        "import matplotlib.pyplot as plt\n",
        "import numpy as np\n",
        "plt.style.use('fivethirtyeight')\n",
        "%matplotlib inline\n",
        "plt.rcParams['figure.figsize'] = [12, 6]\n",
        "import seaborn as sns\n",
        "import requests\n",
        "from bs4 import BeautifulSoup as bs\n",
        "from urllib.request import urlopen\n",
        "import json"
      ],
      "execution_count": 8,
      "outputs": []
    },
    {
      "cell_type": "code",
      "metadata": {
        "id": "hCa7NJrs13BK"
      },
      "source": [
        "# Change the API key to account\n",
        "apiKey = \"demo\"\n",
        "ticker = \"AAPL\""
      ],
      "execution_count": 12,
      "outputs": []
    },
    {
      "cell_type": "code",
      "metadata": {
        "id": "lFehhhUo9BKe"
      },
      "source": [
        "# Quarterly Cash Flow\n",
        "def get_jsonparsed_data(url):\n",
        "    response = urlopen(url)\n",
        "    data = response.read().decode(\"utf-8\")\n",
        "    return json.loads(data)\n",
        "\n",
        "# Financialmodelingprep api url\n",
        "url = \"https://financialmodelingprep.com/api/v3/\"\n",
        "\n",
        "q_cash_flow_statement = pd.DataFrame(get_jsonparsed_data(url+'cash-flow-statement/' + ticker + '?period=quarter' + '&apikey=' + apiKey))\n",
        "q_cash_flow_statement = q_cash_flow_statement.set_index('date').iloc[:4] # extract for last 4 quarters\n",
        "q_cash_flow_statement = q_cash_flow_statement.apply(pd.to_numeric, errors='coerce')\n",
        "\n",
        "q_cash_flow_statement.iloc[:,4:].head()"
      ],
      "execution_count": null,
      "outputs": []
    },
    {
      "cell_type": "code",
      "metadata": {
        "id": "UtWsoTM09AXu"
      },
      "source": [
        "# Annual Cash Flow\n",
        "cash_flow_statement = pd.DataFrame(get_jsonparsed_data(base_url+'cash-flow-statement/' + ticker + '?apikey=' + apiKey))\n",
        "cash_flow_statement = cash_flow_statement.set_index('date')\n",
        "cash_flow_statement = cash_flow_statement.apply(pd.to_numeric, errors='coerce')\n",
        "    \n",
        "cash_flow_statement.iloc[:,4:].head()"
      ],
      "execution_count": null,
      "outputs": []
    },
    {
      "cell_type": "code",
      "metadata": {
        "id": "PepdF0A49N42"
      },
      "source": [
        "# Annual + TTM\n",
        "ttm_cash_flow_statement = q_cash_flow_statement.sum() # sum up last 4 quarters to get TTM cash flow\n",
        "cash_flow_statement = cash_flow_statement[::-1].append(ttm_cash_flow_statement.rename('TTM')).drop(['netIncome'], axis=1)\n",
        "final_cash_flow_statement = cash_flow_statement[::-1] # reverse list to show most recent ones first\n",
        "final_cash_flow_statement.iloc[:,4:].head()"
      ],
      "execution_count": null,
      "outputs": []
    },
    {
      "cell_type": "code",
      "metadata": {
        "id": "j7xBTUmN9Rc5"
      },
      "source": [
        "# Stability of free flow cash\n",
        "final_cash_flow_statement[['freeCashFlow']].iloc[::-1].iloc[-15:].plot(kind='bar', title=ticker + ' Cash Flows')\n",
        "plt.show()"
      ],
      "execution_count": null,
      "outputs": []
    },
    {
      "cell_type": "code",
      "metadata": {
        "id": "eEDV8mq09hD7"
      },
      "source": [
        "# Quarterly Balance Sheet\n",
        "q_balance_statement = pd.DataFrame(get_jsonparsed_data(base_url+'balance-sheet-statement/' + ticker + '?period=quarter' + '&apikey=' + apiKey))\n",
        "q_balance_statement = q_balance_statement.set_index('date')\n",
        "q_balance_statement = q_balance_statement.apply(pd.to_numeric, errors='coerce')\n",
        "q_balance_statement.iloc[:,4:].head()"
      ],
      "execution_count": null,
      "outputs": []
    },
    {
      "cell_type": "code",
      "metadata": {
        "id": "N66Itqis9kqh"
      },
      "source": [
        "# Cash Flow, Total Debt, Cash and short term investment\n",
        "cash_flow = final_cash_flow_statement.iloc[0]['freeCashFlow']\n",
        "total_debt = q_balance_statement.iloc[0]['totalDebt'] \n",
        "cash_and_ST_investments = q_balance_statement.iloc[0]['cashAndShortTermInvestments']"
      ],
      "execution_count": null,
      "outputs": []
    },
    {
      "cell_type": "code",
      "metadata": {
        "id": "eib6AGR298RN"
      },
      "source": [
        "# List of data we want to extract from Finviz Table\n",
        "metric = ['Price', 'EPS next 5Y', 'Beta', 'Shs Outstand']\n",
        "\n",
        "def fundamental_metric(soup, metric):\n",
        "    # the table which stores the data in Finviz has html table attribute class of 'snapshot-td2'\n",
        "    return soup.find(text = metric).find_next(class_='snapshot-td2').text\n",
        "   \n",
        "def get_finviz_data(ticker):\n",
        "    try:\n",
        "        url = (\"http://finviz.com/quote.ashx?t=\" + ticker.lower())\n",
        "        soup = bs(requests.get(url,headers={'User-Agent': 'Mozilla/5.0 (Windows NT 6.1; WOW64; rv:20.0) Gecko/20100101 Firefox/20.0'}).content)\n",
        "        dict_finviz = {}        \n",
        "        for m in metric:   \n",
        "            dict_finviz[m] = fundamental_metric(soup,m)\n",
        "        for key, value in dict_finviz.items():\n",
        "            # replace percentages\n",
        "            if (value[-1]=='%'):\n",
        "                dict_finviz[key] = value[:-1]\n",
        "                dict_finviz[key] = float(dict_finviz[key])\n",
        "            # billion\n",
        "            if (value[-1]=='B'):\n",
        "                dict_finviz[key] = value[:-1]\n",
        "                dict_finviz[key] = float(dict_finviz[key])*1000000000  \n",
        "            # million\n",
        "            if (value[-1]=='M'):\n",
        "                dict_finviz[key] = value[:-1]\n",
        "                dict_finviz[key] = float(dict_finviz[key])*1000000\n",
        "            try:\n",
        "                dict_finviz[key] = float(dict_finviz[key])\n",
        "            except:\n",
        "                pass \n",
        "    except Exception as e:\n",
        "        print (e)\n",
        "        print ('Not successful parsing ' + ticker + ' data.')        \n",
        "    return dict_finviz\n",
        "\n",
        "finviz_data = get_finviz_data(ticker)\n",
        "\n",
        "finviz_data"
      ],
      "execution_count": null,
      "outputs": []
    },
    {
      "cell_type": "code",
      "metadata": {
        "id": "f1HpVYB5-D_c"
      },
      "source": [
        "# Estimate discount rate from beta\n",
        "Beta = finviz_data['Beta']\n",
        "\n",
        "discount_rate = 7\n",
        "if(Beta<0.80):\n",
        "    discount_rate = 5\n",
        "elif(Beta>=0.80 and Beta<1):\n",
        "    discount_rate = 6\n",
        "elif(Beta>=1 and Beta<1.1):\n",
        "    discount_rate = 6.5\n",
        "elif(Beta>=1.1 and Beta<1.2):\n",
        "    discount_rate = 7\n",
        "elif(Beta>=1.2 and Beta<1.3):\n",
        "    discount_rate =7.5\n",
        "elif(Beta>=1.3 and Beta<1.4):\n",
        "    discount_rate = 8\n",
        "elif(Beta>=1.4 and Beta<1.6):\n",
        "    discount_rate = 8.5\n",
        "elif(Beta>=1.61):\n",
        "    discount_rate = 9   \n",
        "\n",
        "print(\"Discount Rate: \", discount_rate)"
      ],
      "execution_count": null,
      "outputs": []
    },
    {
      "cell_type": "code",
      "metadata": {
        "id": "24uaUS__-PHo"
      },
      "source": [
        "# Values required for calculating intrinsic value\n",
        "EPS_growth_5Y = finviz_data['EPS next 5Y']\n",
        "EPS_growth_6Y_to_10Y = EPS_growth_5Y/2  # Half the previous growth rate, conservative estimate\n",
        "EPS_growth_11Y_to_20Y  = np.minimum(EPS_growth_6Y_to_10Y, 4)  # Slightly higher than long term inflation rate, conservative estimate\n",
        "\n",
        "shares_outstanding = finviz_data['Shs Outstand']\n",
        "\n",
        "print(\"Free Cash Flow: \", cash_flow)\n",
        "print(\"Total Debt: \", total_debt)\n",
        "print(\"Cash and ST Investments: \", cash_and_ST_investments)\n",
        "\n",
        "print(\"EPS Growth 5Y: \", EPS_growth_5Y)\n",
        "print(\"EPS Growth 6Y to 10Y: \", EPS_growth_6Y_to_10Y)\n",
        "print(\"EPS Growth 11Y to 20Y: \", EPS_growth_11Y_to_20Y)\n",
        "\n",
        "print(\"Discount Rate: \", discount_rate)\n",
        "\n",
        "print(\"Shares Outstanding: \", shares_outstanding)"
      ],
      "execution_count": null,
      "outputs": []
    },
    {
      "cell_type": "code",
      "metadata": {
        "id": "AGci-721-afz"
      },
      "source": [
        "# Projecting future intrinsic value\n",
        "def calculate_intrinsic_value(cash_flow, total_debt, cash_and_ST_investments, \n",
        "                                  EPS_growth_5Y, EPS_growth_6Y_to_10Y, EPS_growth_11Y_to_20Y,\n",
        "                                  shares_outstanding, discount_rate):   \n",
        "    \n",
        "    # Convert all percentages to decmials\n",
        "    EPS_growth_5Y_d = EPS_growth_5Y/100\n",
        "    EPS_growth_6Y_to_10Y_d = EPS_growth_6Y_to_10Y/100\n",
        "    EPS_growth_11Y_to_20Y_d = EPS_growth_11Y_to_20Y/100\n",
        "    discount_rate_d = discount_rate/100\n",
        "    print(\"Discounted Cash Flows\\n\")\n",
        "    \n",
        "    # Lists of projected cash flows from year 1 to year 20\n",
        "    cash_flow_list = []\n",
        "    cash_flow_discounted_list = []\n",
        "    year_list = []\n",
        "    \n",
        "    \n",
        "    # Years 1 to 5\n",
        "    for year in range(1, 6):\n",
        "        year_list.append(year)\n",
        "        cash_flow*=(1 + EPS_growth_5Y_d)        \n",
        "        cash_flow_list.append(cash_flow)\n",
        "        cash_flow_discounted = cash_flow/((1 + discount_rate_d)**year)\n",
        "        cash_flow_discounted_list.append(cash_flow_discounted)\n",
        "        print(\"Year \" + str(year) + \": $\" + str(cash_flow_discounted)) ## Print out the projected discounted cash flows\n",
        "    \n",
        "    # Years 6 to 10\n",
        "    for year in range(6, 11):\n",
        "        year_list.append(year)\n",
        "        cash_flow*=(1 + EPS_growth_6Y_to_10Y_d)\n",
        "        cash_flow_list.append(cash_flow)\n",
        "        cash_flow_discounted = cash_flow/((1 + discount_rate_d)**year)\n",
        "        cash_flow_discounted_list.append(cash_flow_discounted)\n",
        "        print(\"Year \" + str(year) + \": $\" + str(cash_flow_discounted)) ## Print out the projected discounted cash flows\n",
        "    \n",
        "    # Years 11 to 20\n",
        "    for year in range(11, 21):\n",
        "        year_list.append(year)\n",
        "        cash_flow*=(1 + EPS_growth_11Y_to_20Y_d)\n",
        "        cash_flow_list.append(cash_flow)\n",
        "        cash_flow_discounted = cash_flow/((1 + discount_rate_d)**year)\n",
        "        cash_flow_discounted_list.append(cash_flow_discounted)\n",
        "        print(\"Year \" + str(year) + \": $\" + str(cash_flow_discounted)) ## Print out the projected discounted cash flows\n",
        "    \n",
        "    intrinsic_value = (sum(cash_flow_discounted_list) - total_debt + cash_and_ST_investments)/shares_outstanding\n",
        "    df = pd.DataFrame.from_dict({'Year': year_list, 'Cash Flow': cash_flow_list, 'Discounted Cash Flow': cash_flow_discounted_list})\n",
        "    df.index = df.Year\n",
        "    df.plot(kind='bar', title = 'Projected Cash Flows of ' + ticker)\n",
        "    plt.show()\n",
        "\n",
        "    return intrinsic_value\n",
        "\n",
        "\n",
        "intrinsic_value = calculate_intrinsic_value(cash_flow, total_debt, cash_and_ST_investments, \n",
        "                                  EPS_growth_5Y, EPS_growth_6Y_to_10Y, EPS_growth_11Y_to_20Y,\n",
        "                                  shares_outstanding, discount_rate)  "
      ],
      "execution_count": null,
      "outputs": []
    },
    {
      "cell_type": "code",
      "metadata": {
        "colab": {
          "base_uri": "https://localhost:8080/"
        },
        "id": "eaMDMc18-yKA",
        "outputId": "6ee52b69-b88b-4b53-a5b6-23196afc9ca7"
      },
      "source": [
        "print(\"Intrinsic Value: \", intrinsic_value)\n",
        "current_price = finviz_data['Price']\n",
        "print(\"Current Price: \", current_price)\n",
        "print(\"Margin of Safety: \", (1-current_price/intrinsic_value)*100)"
      ],
      "execution_count": 24,
      "outputs": [
        {
          "output_type": "stream",
          "text": [
            "Intrinsic Value:  113.79595158676702\n",
            "Current Price:  127.12\n",
            "Margin of Safety:  -11.708719183277516\n"
          ],
          "name": "stdout"
        }
      ]
    }
  ]
}