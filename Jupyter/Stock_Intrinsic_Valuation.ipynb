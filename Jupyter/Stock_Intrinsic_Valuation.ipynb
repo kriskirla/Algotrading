{
  "nbformat": 4,
  "nbformat_minor": 0,
  "metadata": {
    "colab": {
      "name": "Stock_Intrinsic_Valuation.ipynb",
      "provenance": [],
      "collapsed_sections": [],
      "authorship_tag": "ABX9TyOCxXEEAC6Mp1ULKv4p3ao7"
    },
    "kernelspec": {
      "name": "python3",
      "display_name": "Python 3"
    }
  },
  "cells": [
    {
      "cell_type": "code",
      "metadata": {
        "id": "-MXXESsRoCOC"
      },
      "source": [
        "# Description: Get Intrinsic value of share price using varieties of methods\n",
        "# Formulation from https://www.investopedia.com/articles/basics/12/intrinsic-value.asp"
      ],
      "execution_count": null,
      "outputs": []
    },
    {
      "cell_type": "code",
      "metadata": {
        "id": "dsYje9hTrDU_"
      },
      "source": [
        "!pip install yahoo_fin"
      ],
      "execution_count": null,
      "outputs": []
    },
    {
      "cell_type": "code",
      "metadata": {
        "id": "E1UxeGO_oKR0"
      },
      "source": [
        "import pandas as pd\n",
        "import yahoo_fin.stock_info as si"
      ],
      "execution_count": 27,
      "outputs": []
    },
    {
      "cell_type": "code",
      "metadata": {
        "id": "ADNipyYarNnf"
      },
      "source": [
        "ticker = 'IBM'"
      ],
      "execution_count": 95,
      "outputs": []
    },
    {
      "cell_type": "code",
      "metadata": {
        "colab": {
          "base_uri": "https://localhost:8080/"
        },
        "id": "LrgrXjQYBx9I",
        "outputId": "fae4b3fb-18c1-4c59-c3de-d7ce5d442930"
      },
      "source": [
        "# Intrinsic value with P/E ratio, EPS, and expected Growth (Only works with Blue Chip)\n",
        "# Actual Price\n",
        "actual = si.get_live_price(ticker)\n",
        "# Find Fair Price\n",
        "quote = si.get_quote_table(ticker)\n",
        "pe = quote['PE Ratio (TTM)']\n",
        "eps = quote['EPS (TTM)']\n",
        "# Expected growth of next year\n",
        "analysis = si.get_analysts_info(ticker)\n",
        "growthNextyears = (1 + float(analysis['Growth Estimates'][ticker][3][:-1])/100)\n",
        "growthNext5years = (1 + float(analysis['Growth Estimates'][ticker][4][:-1])/100)\n",
        "growthPast5years = (1 + float(analysis['Growth Estimates'][ticker][5][:-1])/100)\n",
        "# Average return discount rate (10%)\n",
        "discountRate = 1.1\n",
        "# Calculate fair price, upper, and lower bound\n",
        "fair = (pe * eps * growthNextyears) / discountRate\n",
        "upper = fair * (1.1)\n",
        "lower = fair * (0.9)\n",
        "in5years = (pe * eps * growthNext5years) / discountRate\n",
        "print(actual, fair, upper, lower, in5years)"
      ],
      "execution_count": 102,
      "outputs": [
        {
          "output_type": "stream",
          "text": [
            "121.20999908447266 120.73286909090909 132.80615600000002 108.65958218181818 116.86633286363636\n"
          ],
          "name": "stdout"
        }
      ]
    },
    {
      "cell_type": "code",
      "metadata": {
        "id": "jyym92ywAkoD"
      },
      "source": [
        "# Dividend Discount Models\n",
        "# Calculate the fundamental value of a security factor in variables largely pertaining to cash: dividends and future cash flows, as well as utilize the time value of money\n",
        "# value = (EDPS Expected Divident Per Share) / (CCE Cost of Capital Equity - DGR Dividend Growth Rate)"
      ],
      "execution_count": 94,
      "outputs": []
    },
    {
      "cell_type": "code",
      "metadata": {
        "id": "SEil0xrWBDcJ"
      },
      "source": [
        "# Gordon Growth Model\n",
        "# Reflects on the company's ability to generate cash flows\n",
        "# Pros: Good for evaluating Blue-chip companies\n",
        "# value = (d Expected Dividend one year from now) / (r Required rate of return - g Annual growth in dividends in perpetuity)"
      ],
      "execution_count": null,
      "outputs": []
    },
    {
      "cell_type": "code",
      "metadata": {
        "id": "_A_hEngxCW1t"
      },
      "source": [
        "# Residual Income Models\n",
        "# The model seeks to find the intrinsic value of the stock by adding its current per-share book value with its discounted residual income\n",
        "# value = (BV Current book value of company equity) + \\Summation(t){(RI_t Risidual Income) / (1 + r Cost of equity)^t}"
      ],
      "execution_count": null,
      "outputs": []
    },
    {
      "cell_type": "code",
      "metadata": {
        "id": "gRNKV-seDF4K"
      },
      "source": [
        "# Discounted Cash Flow Models (DFC)\n",
        "# Determine a fair value for a stock based on projected future cash flows.\n",
        "# value = \\Summation(t){(CF_t Cashflow in period t) / (1 + r Discount rate, Weighted cost of capital )^t}"
      ],
      "execution_count": null,
      "outputs": []
    }
  ]
}