{
  "nbformat": 4,
  "nbformat_minor": 0,
  "metadata": {
    "colab": {
      "name": "Stock_Forecast_Neural_Network.ipynb",
      "provenance": [],
      "collapsed_sections": [],
      "authorship_tag": "ABX9TyOTR/PFoWr0F9RDcRTDNWsD"
    },
    "kernelspec": {
      "name": "python3",
      "display_name": "Python 3"
    }
  },
  "cells": [
    {
      "cell_type": "code",
      "metadata": {
        "id": "TPz9lRgexcEh"
      },
      "source": [
        "# Description: This program will predict the stock for a specific day using Neural Network"
      ],
      "execution_count": null,
      "outputs": []
    },
    {
      "cell_type": "code",
      "metadata": {
        "id": "GrSyYc8ZyE_o"
      },
      "source": [
        "!pip install yfinance\n"
      ],
      "execution_count": null,
      "outputs": []
    },
    {
      "cell_type": "code",
      "metadata": {
        "id": "QXltEqQgx0No"
      },
      "source": [
        "# Import libaries\n",
        "from sklearn.preprocessing import MinMaxScaler\n",
        "from tensorflow.keras.models import Sequential\n",
        "from tensorflow.keras.layers import Dense, Dropout, LSTM\n",
        "import yfinance as yf\n",
        "import numpy as np\n",
        "import pandas as pd\n",
        "import datetime as dt\n",
        "import matplotlib.pyplot as plt"
      ],
      "execution_count": 68,
      "outputs": []
    },
    {
      "cell_type": "code",
      "metadata": {
        "colab": {
          "base_uri": "https://localhost:8080/",
          "height": 436
        },
        "id": "ZE-AZIk9x6iU",
        "outputId": "79cee0ae-cc18-4c42-b9ad-3adaf5e18e5d"
      },
      "source": [
        "ticker = \"AAPL\";\n",
        "\n",
        "# Get data from yahoo finance\n",
        "df = yf.download(ticker, start=\"2012-01-01\", end=\"2020-01-01\")#end=dt.datetime.today().strftime('%Y-%m-%d'))\n",
        "df"
      ],
      "execution_count": 69,
      "outputs": [
        {
          "output_type": "stream",
          "text": [
            "\r[*********************100%***********************]  1 of 1 completed\n"
          ],
          "name": "stdout"
        },
        {
          "output_type": "execute_result",
          "data": {
            "text/html": [
              "<div>\n",
              "<style scoped>\n",
              "    .dataframe tbody tr th:only-of-type {\n",
              "        vertical-align: middle;\n",
              "    }\n",
              "\n",
              "    .dataframe tbody tr th {\n",
              "        vertical-align: top;\n",
              "    }\n",
              "\n",
              "    .dataframe thead th {\n",
              "        text-align: right;\n",
              "    }\n",
              "</style>\n",
              "<table border=\"1\" class=\"dataframe\">\n",
              "  <thead>\n",
              "    <tr style=\"text-align: right;\">\n",
              "      <th></th>\n",
              "      <th>Open</th>\n",
              "      <th>High</th>\n",
              "      <th>Low</th>\n",
              "      <th>Close</th>\n",
              "      <th>Adj Close</th>\n",
              "      <th>Volume</th>\n",
              "    </tr>\n",
              "    <tr>\n",
              "      <th>Date</th>\n",
              "      <th></th>\n",
              "      <th></th>\n",
              "      <th></th>\n",
              "      <th></th>\n",
              "      <th></th>\n",
              "      <th></th>\n",
              "    </tr>\n",
              "  </thead>\n",
              "  <tbody>\n",
              "    <tr>\n",
              "      <th>2012-01-03</th>\n",
              "      <td>14.621429</td>\n",
              "      <td>14.732143</td>\n",
              "      <td>14.607143</td>\n",
              "      <td>14.686786</td>\n",
              "      <td>12.650659</td>\n",
              "      <td>302220800</td>\n",
              "    </tr>\n",
              "    <tr>\n",
              "      <th>2012-01-04</th>\n",
              "      <td>14.642857</td>\n",
              "      <td>14.810000</td>\n",
              "      <td>14.617143</td>\n",
              "      <td>14.765714</td>\n",
              "      <td>12.718646</td>\n",
              "      <td>260022000</td>\n",
              "    </tr>\n",
              "    <tr>\n",
              "      <th>2012-01-05</th>\n",
              "      <td>14.819643</td>\n",
              "      <td>14.948214</td>\n",
              "      <td>14.738214</td>\n",
              "      <td>14.929643</td>\n",
              "      <td>12.859850</td>\n",
              "      <td>271269600</td>\n",
              "    </tr>\n",
              "    <tr>\n",
              "      <th>2012-01-06</th>\n",
              "      <td>14.991786</td>\n",
              "      <td>15.098214</td>\n",
              "      <td>14.972143</td>\n",
              "      <td>15.085714</td>\n",
              "      <td>12.994284</td>\n",
              "      <td>318292800</td>\n",
              "    </tr>\n",
              "    <tr>\n",
              "      <th>2012-01-09</th>\n",
              "      <td>15.196429</td>\n",
              "      <td>15.276786</td>\n",
              "      <td>15.048214</td>\n",
              "      <td>15.061786</td>\n",
              "      <td>12.973674</td>\n",
              "      <td>394024400</td>\n",
              "    </tr>\n",
              "    <tr>\n",
              "      <th>...</th>\n",
              "      <td>...</td>\n",
              "      <td>...</td>\n",
              "      <td>...</td>\n",
              "      <td>...</td>\n",
              "      <td>...</td>\n",
              "      <td>...</td>\n",
              "    </tr>\n",
              "    <tr>\n",
              "      <th>2019-12-24</th>\n",
              "      <td>71.172501</td>\n",
              "      <td>71.222504</td>\n",
              "      <td>70.730003</td>\n",
              "      <td>71.067497</td>\n",
              "      <td>70.353882</td>\n",
              "      <td>48478800</td>\n",
              "    </tr>\n",
              "    <tr>\n",
              "      <th>2019-12-26</th>\n",
              "      <td>71.205002</td>\n",
              "      <td>72.495003</td>\n",
              "      <td>71.175003</td>\n",
              "      <td>72.477501</td>\n",
              "      <td>71.749733</td>\n",
              "      <td>93121200</td>\n",
              "    </tr>\n",
              "    <tr>\n",
              "      <th>2019-12-27</th>\n",
              "      <td>72.779999</td>\n",
              "      <td>73.492500</td>\n",
              "      <td>72.029999</td>\n",
              "      <td>72.449997</td>\n",
              "      <td>71.722488</td>\n",
              "      <td>146266000</td>\n",
              "    </tr>\n",
              "    <tr>\n",
              "      <th>2019-12-30</th>\n",
              "      <td>72.364998</td>\n",
              "      <td>73.172501</td>\n",
              "      <td>71.305000</td>\n",
              "      <td>72.879997</td>\n",
              "      <td>72.148178</td>\n",
              "      <td>144114400</td>\n",
              "    </tr>\n",
              "    <tr>\n",
              "      <th>2019-12-31</th>\n",
              "      <td>72.482498</td>\n",
              "      <td>73.419998</td>\n",
              "      <td>72.379997</td>\n",
              "      <td>73.412498</td>\n",
              "      <td>72.675339</td>\n",
              "      <td>100805600</td>\n",
              "    </tr>\n",
              "  </tbody>\n",
              "</table>\n",
              "<p>2012 rows × 6 columns</p>\n",
              "</div>"
            ],
            "text/plain": [
              "                 Open       High        Low      Close  Adj Close     Volume\n",
              "Date                                                                        \n",
              "2012-01-03  14.621429  14.732143  14.607143  14.686786  12.650659  302220800\n",
              "2012-01-04  14.642857  14.810000  14.617143  14.765714  12.718646  260022000\n",
              "2012-01-05  14.819643  14.948214  14.738214  14.929643  12.859850  271269600\n",
              "2012-01-06  14.991786  15.098214  14.972143  15.085714  12.994284  318292800\n",
              "2012-01-09  15.196429  15.276786  15.048214  15.061786  12.973674  394024400\n",
              "...               ...        ...        ...        ...        ...        ...\n",
              "2019-12-24  71.172501  71.222504  70.730003  71.067497  70.353882   48478800\n",
              "2019-12-26  71.205002  72.495003  71.175003  72.477501  71.749733   93121200\n",
              "2019-12-27  72.779999  73.492500  72.029999  72.449997  71.722488  146266000\n",
              "2019-12-30  72.364998  73.172501  71.305000  72.879997  72.148178  144114400\n",
              "2019-12-31  72.482498  73.419998  72.379997  73.412498  72.675339  100805600\n",
              "\n",
              "[2012 rows x 6 columns]"
            ]
          },
          "metadata": {
            "tags": []
          },
          "execution_count": 69
        }
      ]
    },
    {
      "cell_type": "code",
      "metadata": {
        "id": "4YT6Yj8hy3kX"
      },
      "source": [
        "# Prepare the training data\n",
        "scaler = MinMaxScaler(feature_range=(0, 1))\n",
        "scaled_data = scaler.fit_transform(df['Close'].values.reshape(-1, 1))\n",
        "\n",
        "# Lower number = More accurate local (short term), higher = More accurate global (longterm)\n",
        "prediction_days = 60\n",
        "\n",
        "x_train = []\n",
        "y_train = []\n",
        "\n",
        "for i in range(prediction_days, len(scaled_data)):\n",
        "  x_train.append(scaled_data[i - prediction_days : i, 0])\n",
        "  y_train.append(scaled_data[i, 0])\n",
        "\n",
        "x_train, y_train = np.array(x_train), np.array(y_train)\n",
        "x_train = np.reshape(x_train, (x_train.shape[0], x_train.shape[1], 1))"
      ],
      "execution_count": 70,
      "outputs": []
    },
    {
      "cell_type": "code",
      "metadata": {
        "colab": {
          "base_uri": "https://localhost:8080/"
        },
        "id": "GSxEH2mZ0TR5",
        "outputId": "b52af515-b492-4017-9cfa-c44a95cb4c6c"
      },
      "source": [
        "# Build the model\n",
        "model = Sequential()\n",
        "\n",
        "# Adjust the units base on the amount of layers in the NN\n",
        "model.add(LSTM(units=50, return_sequences=True, input_shape=(x_train.shape[1], 1)))\n",
        "model.add(Dropout(0.2))\n",
        "model.add(LSTM(units=50, return_sequences=True))\n",
        "model.add(Dropout(0.2))\n",
        "model.add(LSTM(units=50))\n",
        "model.add(Dropout(0.2))\n",
        "model.add(Dense(units=1))\n",
        "\n",
        "# Compile\n",
        "model.compile(optimizer='adam', loss='mean_squared_error')\n",
        "# Model will see the data 24 times and 32 units it wants\n",
        "model.fit(x_train, y_train, epochs=25, batch_size=32)"
      ],
      "execution_count": 78,
      "outputs": [
        {
          "output_type": "stream",
          "text": [
            "Epoch 1/25\n",
            "61/61 [==============================] - 7s 55ms/step - loss: 0.0349\n",
            "Epoch 2/25\n",
            "61/61 [==============================] - 3s 57ms/step - loss: 0.0025\n",
            "Epoch 3/25\n",
            "61/61 [==============================] - 3s 56ms/step - loss: 0.0024\n",
            "Epoch 4/25\n",
            "61/61 [==============================] - 3s 57ms/step - loss: 0.0021\n",
            "Epoch 5/25\n",
            "61/61 [==============================] - 4s 57ms/step - loss: 0.0017\n",
            "Epoch 6/25\n",
            "61/61 [==============================] - 4s 58ms/step - loss: 0.0018\n",
            "Epoch 7/25\n",
            "61/61 [==============================] - 4s 58ms/step - loss: 0.0020\n",
            "Epoch 8/25\n",
            "61/61 [==============================] - 4s 58ms/step - loss: 0.0015\n",
            "Epoch 9/25\n",
            "61/61 [==============================] - 4s 58ms/step - loss: 0.0014\n",
            "Epoch 10/25\n",
            "61/61 [==============================] - 4s 59ms/step - loss: 0.0015\n",
            "Epoch 11/25\n",
            "61/61 [==============================] - 4s 58ms/step - loss: 0.0013\n",
            "Epoch 12/25\n",
            "61/61 [==============================] - 4s 59ms/step - loss: 0.0012\n",
            "Epoch 13/25\n",
            "61/61 [==============================] - 4s 59ms/step - loss: 0.0011\n",
            "Epoch 14/25\n",
            "61/61 [==============================] - 4s 61ms/step - loss: 0.0011\n",
            "Epoch 15/25\n",
            "61/61 [==============================] - 4s 60ms/step - loss: 0.0014\n",
            "Epoch 16/25\n",
            "61/61 [==============================] - 4s 60ms/step - loss: 0.0012\n",
            "Epoch 17/25\n",
            "61/61 [==============================] - 4s 60ms/step - loss: 0.0011\n",
            "Epoch 18/25\n",
            "61/61 [==============================] - 4s 60ms/step - loss: 0.0012\n",
            "Epoch 19/25\n",
            "61/61 [==============================] - 4s 60ms/step - loss: 0.0011\n",
            "Epoch 20/25\n",
            "61/61 [==============================] - 4s 60ms/step - loss: 0.0012\n",
            "Epoch 21/25\n",
            "61/61 [==============================] - 4s 60ms/step - loss: 0.0013\n",
            "Epoch 22/25\n",
            "61/61 [==============================] - 4s 60ms/step - loss: 9.3214e-04\n",
            "Epoch 23/25\n",
            "61/61 [==============================] - 4s 60ms/step - loss: 0.0010\n",
            "Epoch 24/25\n",
            "61/61 [==============================] - 4s 61ms/step - loss: 9.7571e-04\n",
            "Epoch 25/25\n",
            "61/61 [==============================] - 4s 60ms/step - loss: 9.8453e-04\n"
          ],
          "name": "stdout"
        },
        {
          "output_type": "execute_result",
          "data": {
            "text/plain": [
              "<tensorflow.python.keras.callbacks.History at 0x7fba09abf6a0>"
            ]
          },
          "metadata": {
            "tags": []
          },
          "execution_count": 78
        }
      ]
    },
    {
      "cell_type": "code",
      "metadata": {
        "colab": {
          "base_uri": "https://localhost:8080/"
        },
        "id": "7cmZlYXV2Xos",
        "outputId": "860054a6-128a-4c2b-ffc8-b657af302744"
      },
      "source": [
        "# Get the actual price to test\n",
        "df_test = yf.download(ticker, start=\"2020-01-01\", end=dt.datetime.today().strftime('%Y-%m-%d'))\n",
        "actual_price = df_test['Close'].values\n",
        "\n",
        "# Load the test data into the model\n",
        "total_dataset = pd.concat((df['Close'], df_test['Close']), axis=0)\n",
        "model_inputs = total_dataset[len(total_dataset) - len(df_test) - prediction_days:].values\n",
        "model_inputs = model_inputs.reshape(-1, 1)\n",
        "model_inputs = scaler.transform(model_inputs)"
      ],
      "execution_count": 79,
      "outputs": [
        {
          "output_type": "stream",
          "text": [
            "\r[*********************100%***********************]  1 of 1 completed\n"
          ],
          "name": "stdout"
        }
      ]
    },
    {
      "cell_type": "code",
      "metadata": {
        "id": "2V5le12H4oKU"
      },
      "source": [
        "# Test the accuracy of the model\n",
        "x_test = []\n",
        "\n",
        "for i in range(prediction_days, len(model_inputs)):\n",
        "  x_test.append(model_inputs[i - prediction_days : i, 0])\n",
        "\n",
        "x_test = np.array(x_test)\n",
        "x_test = np.reshape(x_test, (x_test.shape[0], x_test.shape[1], 1))\n",
        "\n",
        "predicted_prices = model.predict(x_test)\n",
        "predicted_prices = scaler.inverse_transform(predicted_prices)"
      ],
      "execution_count": 80,
      "outputs": []
    },
    {
      "cell_type": "code",
      "metadata": {
        "colab": {
          "base_uri": "https://localhost:8080/",
          "height": 498
        },
        "id": "Hso2ERos6vfa",
        "outputId": "8bb4d70b-f3af-475d-ffde-b426b1112e84"
      },
      "source": [
        "# Plot the test predictions\n",
        "plt.figure(figsize=(16,8))\n",
        "plt.plot(df_test.index, actual_price, color=\"black\", label=\"Actual Price\")\n",
        "plt.plot(df_test.index, predicted_prices, color=\"green\", label=\"Prediction Price\")\n",
        "plt.title(f\"{ticker}\")\n",
        "plt.ylabel(\"Close Prices (USD)\")\n",
        "plt.legend()\n",
        "plt.show()"
      ],
      "execution_count": 81,
      "outputs": [
        {
          "output_type": "display_data",
          "data": {
            "image/png": "[encoded data removed]",
            "text/plain": [
              "<Figure size 1152x576 with 1 Axes>"
            ]
          },
          "metadata": {
            "tags": [],
            "needs_background": "light"
          }
        }
      ]
    },
    {
      "cell_type": "code",
      "metadata": {
        "colab": {
          "base_uri": "https://localhost:8080/"
        },
        "id": "GpwXeJSX-IFz",
        "outputId": "2bd8982a-f8d3-4249-b07e-5f8111280319"
      },
      "source": [
        "# Predict Next Day\n",
        "real_data = [model_inputs[len(model_inputs) + 1 - prediction_days : len(model_inputs + 1), 0]]\n",
        "real_data = np.array(real_data)\n",
        "real_data = np.reshape(real_data, (real_data.shape[0], real_data.shape[1], 1))\n",
        "prediction = model.predict(real_data)\n",
        "prediction = scaler.inverse_transform(prediction)\n",
        "print(f\"Prediction Price for {dt.date.today() + dt.timedelta(days=1)} is {prediction[0]}\")"
      ],
      "execution_count": 83,
      "outputs": [
        {
          "output_type": "stream",
          "text": [
            "Prediction Price for 2021-02-20 is [125.383484]\n"
          ],
          "name": "stdout"
        }
      ]
    }
  ]
}