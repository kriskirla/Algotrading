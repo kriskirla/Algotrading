{
  "nbformat": 4,
  "nbformat_minor": 0,
  "metadata": {
    "colab": {
      "name": "Stock_Sentiment_Analysis_Finviz.ipynb",
      "provenance": [],
      "collapsed_sections": [],
      "authorship_tag": "ABX9TyO06Dr43Da3hj3Qk73fasSC"
    },
    "kernelspec": {
      "name": "python3",
      "display_name": "Python 3"
    }
  },
  "cells": [
    {
      "cell_type": "code",
      "metadata": {
        "id": "aKlIAlQ-dBcG"
      },
      "source": [
        "# Description: This will scrape news from media outlets and create a graph with sentimental values for given tickers"
      ],
      "execution_count": null,
      "outputs": []
    },
    {
      "cell_type": "code",
      "metadata": {
        "id": "IfNi4DKTdMWR"
      },
      "source": [
        "# Import libraries\n",
        "from urllib.request import urlopen, Request\n",
        "from bs4 import BeautifulSoup\n",
        "import os\n",
        "import pandas as pd\n",
        "import matplotlib.pyplot as plt\n",
        "import nltk\n",
        "nltk.downloader.download('vader_lexicon')\n",
        "from nltk.sentiment.vader import SentimentIntensityAnalyzer"
      ],
      "execution_count": null,
      "outputs": []
    },
    {
      "cell_type": "code",
      "metadata": {
        "id": "TmAF79JddMzh"
      },
      "source": [
        "source = 'https://finviz.com/quote.ashx?t='\n",
        "tickers = ['AAPL', 'AMD', 'PLTR']\n",
        "news_tables = {}\n",
        "\n",
        "for ticker in tickers:\n",
        "  url = source + ticker\n",
        "  req = Request(url=url,headers={'user-agent': 'my-app/0.0.1'}) \n",
        "  response = urlopen(req)    \n",
        "  # Read the contents of the file into 'html'\n",
        "  html = BeautifulSoup(response)\n",
        "  # Find 'news-table' in the Soup and load it into 'news_table'\n",
        "  news_table = html.find(id='news-table')\n",
        "  # Add the table to our dictionary\n",
        "  news_tables[ticker] = news_table"
      ],
      "execution_count": 12,
      "outputs": []
    },
    {
      "cell_type": "code",
      "metadata": {
        "id": "d7aFHJZViyry"
      },
      "source": [
        "# select number of days to analyze (No more than 3 days otherwise it's irrelavant)\n",
        "day = 2\n",
        "# Parse the news\n",
        "parsed_news = []\n",
        "\n",
        "# Iterate through the news\n",
        "for file_name, news_table in news_tables.items():\n",
        "  ticker = file_name.split('_')[0]\n",
        "  count = 0\n",
        "  # Iterate through all tr tags\n",
        "  for tr in news_table.findAll('tr'):\n",
        "    # The first tag contains date\n",
        "    if len(tr.td.text.split()) > 1:\n",
        "      date = tr.td.text.split()[0]\n",
        "      time = tr.td.text.split()[1]\n",
        "      count += 1\n",
        "    else:\n",
        "      time = tr.td.text.split()[0]\n",
        "\n",
        "    if count <= day:\n",
        "      parsed_news.append([file_name, date, time, tr.a.get_text()])\n",
        "    else:\n",
        "      break"
      ],
      "execution_count": 13,
      "outputs": []
    },
    {
      "cell_type": "code",
      "metadata": {
        "colab": {
          "base_uri": "https://localhost:8080/",
          "height": 420
        },
        "id": "Gim10MgdmSDi",
        "outputId": "7d2c0d87-422e-487f-f2eb-aacc45f9aeef"
      },
      "source": [
        "# Instantiate the sentiment intensity analyzer\n",
        "vader = SentimentIntensityAnalyzer()\n",
        "\n",
        "df = pd.DataFrame(parsed_news, columns=['Ticker', 'Date', 'Time', 'Headline'])\n",
        "# Apply Vader sentiment analysis to headlines\n",
        "scores = df['Headline'].apply(vader.polarity_scores).tolist()\n",
        "scores_df = pd.DataFrame(scores)\n",
        "df = df.join(scores_df, rsuffix='_right')\n",
        "df['Date'] = pd.to_datetime(df['Date']).dt.date\n",
        "df.set_index('Date', inplace=True)\n",
        "df"
      ],
      "execution_count": 14,
      "outputs": [
        {
          "output_type": "execute_result",
          "data": {
            "text/html": [
              "<div>\n",
              "<style scoped>\n",
              "    .dataframe tbody tr th:only-of-type {\n",
              "        vertical-align: middle;\n",
              "    }\n",
              "\n",
              "    .dataframe tbody tr th {\n",
              "        vertical-align: top;\n",
              "    }\n",
              "\n",
              "    .dataframe thead th {\n",
              "        text-align: right;\n",
              "    }\n",
              "</style>\n",
              "<table border=\"1\" class=\"dataframe\">\n",
              "  <thead>\n",
              "    <tr style=\"text-align: right;\">\n",
              "      <th></th>\n",
              "      <th>Ticker</th>\n",
              "      <th>Time</th>\n",
              "      <th>Headline</th>\n",
              "      <th>neg</th>\n",
              "      <th>neu</th>\n",
              "      <th>pos</th>\n",
              "      <th>compound</th>\n",
              "    </tr>\n",
              "    <tr>\n",
              "      <th>Date</th>\n",
              "      <th></th>\n",
              "      <th></th>\n",
              "      <th></th>\n",
              "      <th></th>\n",
              "      <th></th>\n",
              "      <th></th>\n",
              "      <th></th>\n",
              "    </tr>\n",
              "  </thead>\n",
              "  <tbody>\n",
              "    <tr>\n",
              "      <th>2021-02-18</th>\n",
              "      <td>AAPL</td>\n",
              "      <td>10:52PM</td>\n",
              "      <td>Dow Jones Futures: Stress Test Your Portfolio;...</td>\n",
              "      <td>0.157</td>\n",
              "      <td>0.843</td>\n",
              "      <td>0.000</td>\n",
              "      <td>-0.4215</td>\n",
              "    </tr>\n",
              "    <tr>\n",
              "      <th>2021-02-18</th>\n",
              "      <td>AAPL</td>\n",
              "      <td>07:30PM</td>\n",
              "      <td>Universal Electronics Inc (UEIC) Q4 2020 Earni...</td>\n",
              "      <td>0.000</td>\n",
              "      <td>1.000</td>\n",
              "      <td>0.000</td>\n",
              "      <td>0.0000</td>\n",
              "    </tr>\n",
              "    <tr>\n",
              "      <th>2021-02-18</th>\n",
              "      <td>AAPL</td>\n",
              "      <td>05:50PM</td>\n",
              "      <td>These Are The Best Robinhood Stocks To Buy Or ...</td>\n",
              "      <td>0.000</td>\n",
              "      <td>0.704</td>\n",
              "      <td>0.296</td>\n",
              "      <td>0.6369</td>\n",
              "    </tr>\n",
              "    <tr>\n",
              "      <th>2021-02-18</th>\n",
              "      <td>AAPL</td>\n",
              "      <td>05:39PM</td>\n",
              "      <td>Congress gets ready to grill Big Tech with a s...</td>\n",
              "      <td>0.000</td>\n",
              "      <td>0.839</td>\n",
              "      <td>0.161</td>\n",
              "      <td>0.3612</td>\n",
              "    </tr>\n",
              "    <tr>\n",
              "      <th>2021-02-18</th>\n",
              "      <td>AAPL</td>\n",
              "      <td>05:30PM</td>\n",
              "      <td>Zuckerberg, Pichai, Dorsey Due Back for New Gr...</td>\n",
              "      <td>0.000</td>\n",
              "      <td>1.000</td>\n",
              "      <td>0.000</td>\n",
              "      <td>0.0000</td>\n",
              "    </tr>\n",
              "    <tr>\n",
              "      <th>...</th>\n",
              "      <td>...</td>\n",
              "      <td>...</td>\n",
              "      <td>...</td>\n",
              "      <td>...</td>\n",
              "      <td>...</td>\n",
              "      <td>...</td>\n",
              "      <td>...</td>\n",
              "    </tr>\n",
              "    <tr>\n",
              "      <th>2021-02-17</th>\n",
              "      <td>PLTR</td>\n",
              "      <td>12:02PM</td>\n",
              "      <td>4 Palantir Analysts Debate Data Analytics Comp...</td>\n",
              "      <td>0.000</td>\n",
              "      <td>1.000</td>\n",
              "      <td>0.000</td>\n",
              "      <td>0.0000</td>\n",
              "    </tr>\n",
              "    <tr>\n",
              "      <th>2021-02-17</th>\n",
              "      <td>PLTR</td>\n",
              "      <td>10:12AM</td>\n",
              "      <td>Benzinga's Top Ratings Upgrades, Downgrades Fo...</td>\n",
              "      <td>0.000</td>\n",
              "      <td>0.816</td>\n",
              "      <td>0.184</td>\n",
              "      <td>0.2023</td>\n",
              "    </tr>\n",
              "    <tr>\n",
              "      <th>2021-02-17</th>\n",
              "      <td>PLTR</td>\n",
              "      <td>08:45AM</td>\n",
              "      <td>Palantir's Earnings Were Impressive, but the S...</td>\n",
              "      <td>0.000</td>\n",
              "      <td>0.823</td>\n",
              "      <td>0.177</td>\n",
              "      <td>0.2846</td>\n",
              "    </tr>\n",
              "    <tr>\n",
              "      <th>2021-02-17</th>\n",
              "      <td>PLTR</td>\n",
              "      <td>08:15AM</td>\n",
              "      <td>Palantir Gets Upgrade to Buy at Goldman on Sal...</td>\n",
              "      <td>0.000</td>\n",
              "      <td>1.000</td>\n",
              "      <td>0.000</td>\n",
              "      <td>0.0000</td>\n",
              "    </tr>\n",
              "    <tr>\n",
              "      <th>2021-02-17</th>\n",
              "      <td>PLTR</td>\n",
              "      <td>03:02AM</td>\n",
              "      <td>Bitcoin Stampede, Buying Gold and Silver, Buff...</td>\n",
              "      <td>0.237</td>\n",
              "      <td>0.763</td>\n",
              "      <td>0.000</td>\n",
              "      <td>-0.4215</td>\n",
              "    </tr>\n",
              "  </tbody>\n",
              "</table>\n",
              "<p>79 rows × 7 columns</p>\n",
              "</div>"
            ],
            "text/plain": [
              "           Ticker     Time  ...    pos  compound\n",
              "Date                        ...                 \n",
              "2021-02-18   AAPL  10:52PM  ...  0.000   -0.4215\n",
              "2021-02-18   AAPL  07:30PM  ...  0.000    0.0000\n",
              "2021-02-18   AAPL  05:50PM  ...  0.296    0.6369\n",
              "2021-02-18   AAPL  05:39PM  ...  0.161    0.3612\n",
              "2021-02-18   AAPL  05:30PM  ...  0.000    0.0000\n",
              "...           ...      ...  ...    ...       ...\n",
              "2021-02-17   PLTR  12:02PM  ...  0.000    0.0000\n",
              "2021-02-17   PLTR  10:12AM  ...  0.184    0.2023\n",
              "2021-02-17   PLTR  08:45AM  ...  0.177    0.2846\n",
              "2021-02-17   PLTR  08:15AM  ...  0.000    0.0000\n",
              "2021-02-17   PLTR  03:02AM  ...  0.000   -0.4215\n",
              "\n",
              "[79 rows x 7 columns]"
            ]
          },
          "metadata": {
            "tags": []
          },
          "execution_count": 14
        }
      ]
    },
    {
      "cell_type": "code",
      "metadata": {
        "colab": {
          "base_uri": "https://localhost:8080/",
          "height": 497
        },
        "id": "6F6PMNoQpeqV",
        "outputId": "02f2cd3e-d745-455f-d953-c6babc541ba4"
      },
      "source": [
        "# Group the scores by ticker and date\n",
        "mean_scores = df.groupby(['Ticker', 'Date']).mean()\n",
        "mean_scores = mean_scores.unstack()\n",
        "mean_scores = mean_scores.xs('compound', axis=\"columns\").transpose()\n",
        "# Plot a bar graph\n",
        "plt.rcParams['figure.figsize'] = [16, 8]\n",
        "mean_scores.plot.bar(rot=0)\n",
        "plt.grid()"
      ],
      "execution_count": 15,
      "outputs": [
        {
          "output_type": "display_data",
          "data": {
            "image/png": "[encoded data removed]",
            "text/plain": [
              "<Figure size 1152x576 with 1 Axes>"
            ]
          },
          "metadata": {
            "tags": [],
            "needs_background": "light"
          }
        }
      ]
    },
    {
      "cell_type": "code",
      "metadata": {
        "id": "SxrJou3Kn2ds"
      },
      "source": [
        "# ====== ONLY RUN THIS IF YOU WANT TO READ INDIVIDUAL NEWS ======\n",
        "pd.set_option('display.max_colwidth', -1)\n",
        "pd.set_option('display.max_rows', len(df))\n",
        "df"
      ],
      "execution_count": null,
      "outputs": []
    }
  ]
}